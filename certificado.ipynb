{
 "cells": [
  {
   "cell_type": "code",
   "execution_count": 1,
   "id": "723842dd",
   "metadata": {},
   "outputs": [
    {
     "name": "stderr",
     "output_type": "stream",
     "text": [
      "C:\\Users\\User\\anaconda3\\lib\\site-packages\\scipy\\__init__.py:146: UserWarning: A NumPy version >=1.16.5 and <1.23.0 is required for this version of SciPy (detected version 1.23.1\n",
      "  warnings.warn(f\"A NumPy version >={np_minversion} and <{np_maxversion}\"\n"
     ]
    }
   ],
   "source": [
    "import pandas as pd\n",
    "import numpy as np\n",
    "import matplotlib.pyplot as plt\n",
    "import seaborn as sns"
   ]
  },
  {
   "cell_type": "code",
   "execution_count": 2,
   "id": "82e77b82",
   "metadata": {},
   "outputs": [],
   "source": [
    "boat = pd.read_csv('boat_data.csv')"
   ]
  },
  {
   "cell_type": "code",
   "execution_count": 3,
   "id": "e9105af1",
   "metadata": {},
   "outputs": [],
   "source": [
    "boat.rename(columns={'Number of views last 7 days':'views'}, inplace=True)"
   ]
  },
  {
   "cell_type": "code",
   "execution_count": 4,
   "id": "7c244513",
   "metadata": {},
   "outputs": [],
   "source": [
    "boat['moeda'] = boat['Price'].str.split(' ', expand=True).get(1)"
   ]
  },
  {
   "cell_type": "code",
   "execution_count": 5,
   "id": "9dc2ee8f",
   "metadata": {},
   "outputs": [],
   "source": [
    "boat['preco'] = boat['Price'].str.split(' ', expand=True).get(0)"
   ]
  },
  {
   "cell_type": "code",
   "execution_count": 6,
   "id": "b56e5aec",
   "metadata": {},
   "outputs": [],
   "source": [
    "boat.rename(columns ={'moeda':'valor','preco':'moeda'}, inplace=True)"
   ]
  },
  {
   "cell_type": "code",
   "execution_count": 7,
   "id": "e2dd0302",
   "metadata": {},
   "outputs": [],
   "source": [
    "boat['valor'] = boat['valor'].astype('int')"
   ]
  },
  {
   "cell_type": "code",
   "execution_count": 8,
   "id": "82cf20bf",
   "metadata": {},
   "outputs": [],
   "source": [
    "boat['moeda']=boat['moeda'].replace({'Â£':'GBP'})"
   ]
  },
  {
   "cell_type": "code",
   "execution_count": 9,
   "id": "0c90015e",
   "metadata": {},
   "outputs": [],
   "source": [
    "def get_net_sale_value(df_row):\n",
    "\tif df_row['moeda'] == 'GBP':\n",
    "\t\tnet_sale_value = df_row['valor']*1.07\n",
    "\telif df_row['moeda'] =='EUR':\n",
    "\t    net_sale_value = df_row['valor']*0.96\n",
    "\telif df_row['moeda']=='CHF':\n",
    "\t    net_sale_value = df_row['valor']*1.01\n",
    "\telif df_row['moeda'] =='DKK':\n",
    "\t    net_sale_value = df_row['valor']*0.13\n",
    "\telse:\n",
    "\t    net_sale_value = 0\n",
    "\treturn net_sale_value"
   ]
  },
  {
   "cell_type": "code",
   "execution_count": 10,
   "id": "a404fe83",
   "metadata": {},
   "outputs": [],
   "source": [
    "boat['valor_USD'] = boat.apply(get_net_sale_value, axis=1)"
   ]
  },
  {
   "cell_type": "code",
   "execution_count": 11,
   "id": "80c52f04",
   "metadata": {},
   "outputs": [
    {
     "data": {
      "text/html": [
       "<div>\n",
       "<style scoped>\n",
       "    .dataframe tbody tr th:only-of-type {\n",
       "        vertical-align: middle;\n",
       "    }\n",
       "\n",
       "    .dataframe tbody tr th {\n",
       "        vertical-align: top;\n",
       "    }\n",
       "\n",
       "    .dataframe thead th {\n",
       "        text-align: right;\n",
       "    }\n",
       "</style>\n",
       "<table border=\"1\" class=\"dataframe\">\n",
       "  <thead>\n",
       "    <tr style=\"text-align: right;\">\n",
       "      <th></th>\n",
       "      <th>moeda</th>\n",
       "      <th>valor_USD</th>\n",
       "    </tr>\n",
       "  </thead>\n",
       "  <tbody>\n",
       "    <tr>\n",
       "      <th>0</th>\n",
       "      <td>CHF</td>\n",
       "      <td>3370.37</td>\n",
       "    </tr>\n",
       "    <tr>\n",
       "      <th>1</th>\n",
       "      <td>EUR</td>\n",
       "      <td>3350.40</td>\n",
       "    </tr>\n",
       "    <tr>\n",
       "      <th>2</th>\n",
       "      <td>CHF</td>\n",
       "      <td>3807.70</td>\n",
       "    </tr>\n",
       "    <tr>\n",
       "      <th>3</th>\n",
       "      <td>DKK</td>\n",
       "      <td>3367.00</td>\n",
       "    </tr>\n",
       "    <tr>\n",
       "      <th>4</th>\n",
       "      <td>EUR</td>\n",
       "      <td>3263.04</td>\n",
       "    </tr>\n",
       "  </tbody>\n",
       "</table>\n",
       "</div>"
      ],
      "text/plain": [
       "  moeda  valor_USD\n",
       "0   CHF    3370.37\n",
       "1   EUR    3350.40\n",
       "2   CHF    3807.70\n",
       "3   DKK    3367.00\n",
       "4   EUR    3263.04"
      ]
     },
     "execution_count": 11,
     "metadata": {},
     "output_type": "execute_result"
    }
   ],
   "source": [
    "boat[['moeda','valor_USD']].head()"
   ]
  },
  {
   "cell_type": "code",
   "execution_count": 12,
   "id": "ee5c68b7",
   "metadata": {},
   "outputs": [
    {
     "name": "stdout",
     "output_type": "stream",
     "text": [
      "<class 'pandas.core.frame.DataFrame'>\n",
      "RangeIndex: 9888 entries, 0 to 9887\n",
      "Data columns (total 13 columns):\n",
      " #   Column        Non-Null Count  Dtype  \n",
      "---  ------        --------------  -----  \n",
      " 0   Price         9888 non-null   object \n",
      " 1   Boat Type     9888 non-null   object \n",
      " 2   Manufacturer  8550 non-null   object \n",
      " 3   Type          9882 non-null   object \n",
      " 4   Year Built    9888 non-null   int64  \n",
      " 5   Length        9879 non-null   float64\n",
      " 6   Width         9832 non-null   float64\n",
      " 7   Material      8139 non-null   object \n",
      " 8   Location      9852 non-null   object \n",
      " 9   views         9888 non-null   int64  \n",
      " 10  valor         9888 non-null   int32  \n",
      " 11  moeda         9888 non-null   object \n",
      " 12  valor_USD     9888 non-null   float64\n",
      "dtypes: float64(3), int32(1), int64(2), object(7)\n",
      "memory usage: 965.8+ KB\n"
     ]
    }
   ],
   "source": [
    "boat.info()"
   ]
  },
  {
   "cell_type": "code",
   "execution_count": 13,
   "id": "73c3ae53",
   "metadata": {},
   "outputs": [],
   "source": [
    "bin_labels_5 = ['Bronze', 'Silver', 'Gold', 'Platinum', 'Diamond']\n",
    "boat['price_category'] = pd.qcut(boat['valor_USD'], q=[0, .2, .4, .6, .8, 1], labels = bin_labels_5)"
   ]
  },
  {
   "cell_type": "code",
   "execution_count": 14,
   "id": "c9fd3228",
   "metadata": {},
   "outputs": [],
   "source": [
    "boat_type100=boat['Boat Type'].value_counts().head(100)"
   ]
  },
  {
   "cell_type": "code",
   "execution_count": 15,
   "id": "79febb39",
   "metadata": {},
   "outputs": [
    {
     "data": {
      "text/html": [
       "<div>\n",
       "<style scoped>\n",
       "    .dataframe tbody tr th:only-of-type {\n",
       "        vertical-align: middle;\n",
       "    }\n",
       "\n",
       "    .dataframe tbody tr th {\n",
       "        vertical-align: top;\n",
       "    }\n",
       "\n",
       "    .dataframe thead th {\n",
       "        text-align: right;\n",
       "    }\n",
       "</style>\n",
       "<table border=\"1\" class=\"dataframe\">\n",
       "  <thead>\n",
       "    <tr style=\"text-align: right;\">\n",
       "      <th></th>\n",
       "      <th>Price</th>\n",
       "      <th>Boat Type</th>\n",
       "      <th>Manufacturer</th>\n",
       "      <th>Type</th>\n",
       "      <th>Year Built</th>\n",
       "      <th>Length</th>\n",
       "      <th>Width</th>\n",
       "      <th>Material</th>\n",
       "      <th>Location</th>\n",
       "      <th>views</th>\n",
       "      <th>valor</th>\n",
       "      <th>moeda</th>\n",
       "      <th>valor_USD</th>\n",
       "      <th>price_category</th>\n",
       "    </tr>\n",
       "  </thead>\n",
       "  <tbody>\n",
       "    <tr>\n",
       "      <th>0</th>\n",
       "      <td>CHF 3337</td>\n",
       "      <td>Motor Yacht</td>\n",
       "      <td>Rigiflex power boats</td>\n",
       "      <td>new boat from stock</td>\n",
       "      <td>2017</td>\n",
       "      <td>4.00</td>\n",
       "      <td>1.90</td>\n",
       "      <td>NaN</td>\n",
       "      <td>Switzerland</td>\n",
       "      <td>226</td>\n",
       "      <td>3337</td>\n",
       "      <td>CHF</td>\n",
       "      <td>3370.37</td>\n",
       "      <td>Bronze</td>\n",
       "    </tr>\n",
       "    <tr>\n",
       "      <th>1</th>\n",
       "      <td>EUR 3490</td>\n",
       "      <td>Center console boat</td>\n",
       "      <td>Terhi power boats</td>\n",
       "      <td>new boat from stock</td>\n",
       "      <td>2020</td>\n",
       "      <td>4.00</td>\n",
       "      <td>1.50</td>\n",
       "      <td>Thermoplastic</td>\n",
       "      <td>Germany</td>\n",
       "      <td>75</td>\n",
       "      <td>3490</td>\n",
       "      <td>EUR</td>\n",
       "      <td>3350.40</td>\n",
       "      <td>Bronze</td>\n",
       "    </tr>\n",
       "    <tr>\n",
       "      <th>2</th>\n",
       "      <td>CHF 3770</td>\n",
       "      <td>Sport Boat</td>\n",
       "      <td>Marine power boats</td>\n",
       "      <td>new boat from stock</td>\n",
       "      <td>0</td>\n",
       "      <td>3.69</td>\n",
       "      <td>1.42</td>\n",
       "      <td>Aluminium</td>\n",
       "      <td>Switzerland</td>\n",
       "      <td>124</td>\n",
       "      <td>3770</td>\n",
       "      <td>CHF</td>\n",
       "      <td>3807.70</td>\n",
       "      <td>Bronze</td>\n",
       "    </tr>\n",
       "    <tr>\n",
       "      <th>3</th>\n",
       "      <td>DKK 25900</td>\n",
       "      <td>Sport Boat</td>\n",
       "      <td>Pioner power boats</td>\n",
       "      <td>new boat from stock</td>\n",
       "      <td>2020</td>\n",
       "      <td>3.00</td>\n",
       "      <td>1.00</td>\n",
       "      <td>NaN</td>\n",
       "      <td>Denmark</td>\n",
       "      <td>64</td>\n",
       "      <td>25900</td>\n",
       "      <td>DKK</td>\n",
       "      <td>3367.00</td>\n",
       "      <td>Bronze</td>\n",
       "    </tr>\n",
       "    <tr>\n",
       "      <th>4</th>\n",
       "      <td>EUR 3399</td>\n",
       "      <td>Fishing Boat</td>\n",
       "      <td>Linder power boats</td>\n",
       "      <td>new boat from stock</td>\n",
       "      <td>2019</td>\n",
       "      <td>3.55</td>\n",
       "      <td>1.46</td>\n",
       "      <td>Aluminium</td>\n",
       "      <td>Germany</td>\n",
       "      <td>58</td>\n",
       "      <td>3399</td>\n",
       "      <td>EUR</td>\n",
       "      <td>3263.04</td>\n",
       "      <td>Bronze</td>\n",
       "    </tr>\n",
       "  </tbody>\n",
       "</table>\n",
       "</div>"
      ],
      "text/plain": [
       "       Price            Boat Type          Manufacturer                 Type  \\\n",
       "0   CHF 3337          Motor Yacht  Rigiflex power boats  new boat from stock   \n",
       "1   EUR 3490  Center console boat     Terhi power boats  new boat from stock   \n",
       "2   CHF 3770           Sport Boat    Marine power boats  new boat from stock   \n",
       "3  DKK 25900           Sport Boat    Pioner power boats  new boat from stock   \n",
       "4   EUR 3399         Fishing Boat    Linder power boats  new boat from stock   \n",
       "\n",
       "   Year Built  Length  Width       Material     Location  views  valor moeda  \\\n",
       "0        2017    4.00   1.90            NaN  Switzerland    226   3337   CHF   \n",
       "1        2020    4.00   1.50  Thermoplastic      Germany     75   3490   EUR   \n",
       "2           0    3.69   1.42      Aluminium  Switzerland    124   3770   CHF   \n",
       "3        2020    3.00   1.00            NaN      Denmark     64  25900   DKK   \n",
       "4        2019    3.55   1.46      Aluminium      Germany     58   3399   EUR   \n",
       "\n",
       "   valor_USD price_category  \n",
       "0    3370.37         Bronze  \n",
       "1    3350.40         Bronze  \n",
       "2    3807.70         Bronze  \n",
       "3    3367.00         Bronze  \n",
       "4    3263.04         Bronze  "
      ]
     },
     "execution_count": 15,
     "metadata": {},
     "output_type": "execute_result"
    }
   ],
   "source": [
    "boat.head()"
   ]
  },
  {
   "cell_type": "code",
   "execution_count": 16,
   "id": "74f045ca",
   "metadata": {},
   "outputs": [
    {
     "data": {
      "text/plain": [
       "Silver      2013\n",
       "Bronze      1978\n",
       "Diamond     1977\n",
       "Gold        1962\n",
       "Platinum    1958\n",
       "Name: price_category, dtype: int64"
      ]
     },
     "execution_count": 16,
     "metadata": {},
     "output_type": "execute_result"
    }
   ],
   "source": [
    "boat['price_category'].value_counts()"
   ]
  },
  {
   "cell_type": "code",
   "execution_count": 17,
   "id": "a4069a45",
   "metadata": {},
   "outputs": [
    {
     "data": {
      "text/plain": [
       "price_category\n",
       "Bronze      423616\n",
       "Silver      312847\n",
       "Gold        276816\n",
       "Platinum    237921\n",
       "Diamond     223702\n",
       "Name: views, dtype: int64"
      ]
     },
     "execution_count": 17,
     "metadata": {},
     "output_type": "execute_result"
    }
   ],
   "source": [
    "# MOST VIEWED BY CATEGORIA DE PRECO  \n",
    "boat.groupby('price_category')['views'].sum()"
   ]
  },
  {
   "cell_type": "code",
   "execution_count": 18,
   "id": "38a5bdca",
   "metadata": {},
   "outputs": [
    {
     "data": {
      "text/plain": [
       "Boat Type\n",
       "Motor Yacht    351659\n",
       "Sport Boat     251418\n",
       "Cabin Boat     131700\n",
       "Flybridge      127534\n",
       "Trawler         75456\n",
       "Name: views, dtype: int64"
      ]
     },
     "execution_count": 18,
     "metadata": {},
     "output_type": "execute_result"
    }
   ],
   "source": [
    "# MOST VIEWED BY BOAT TYPE ------------------------------------------\n",
    "boat.groupby('Boat Type')['views'].sum().sort_values(ascending=False).head()"
   ]
  },
  {
   "cell_type": "code",
   "execution_count": 19,
   "id": "51cf2e23",
   "metadata": {},
   "outputs": [
    {
     "data": {
      "text/plain": [
       "Manufacturer\n",
       "BÃ©nÃ©teau power boats    56211\n",
       "Sunseeker power boats     51110\n",
       "Jeanneau power boats      51070\n",
       "Sea Ray power boats       45387\n",
       "Princess power boats      39051\n",
       "Name: views, dtype: int64"
      ]
     },
     "execution_count": 19,
     "metadata": {},
     "output_type": "execute_result"
    }
   ],
   "source": [
    "# MOST VIEWED BY MANUFACTURER ----------\n",
    "boat.groupby('Manufacturer')['views'].sum().sort_values(ascending=False).head()"
   ]
  },
  {
   "cell_type": "code",
   "execution_count": 20,
   "id": "c6eb17eb",
   "metadata": {},
   "outputs": [
    {
     "data": {
      "text/plain": [
       "Type\n",
       "Used boat,Diesel                538140\n",
       "Used boat,Unleaded              408134\n",
       "Used boat                       183563\n",
       "new boat from stock,Unleaded    134863\n",
       "new boat from stock              89795\n",
       "Name: views, dtype: int64"
      ]
     },
     "execution_count": 20,
     "metadata": {},
     "output_type": "execute_result"
    }
   ],
   "source": [
    "# MOST VIEWED BY TYPE ------------------------------------------\n",
    "boat.groupby('Type')['views'].sum().sort_values(ascending=False).head()"
   ]
  },
  {
   "cell_type": "code",
   "execution_count": 21,
   "id": "072e5528",
   "metadata": {},
   "outputs": [
    {
     "data": {
      "text/plain": [
       "Index(['Price', 'Boat Type', 'Manufacturer', 'Type', 'Year Built', 'Length',\n",
       "       'Width', 'Material', 'Location', 'views', 'valor', 'moeda', 'valor_USD',\n",
       "       'price_category'],\n",
       "      dtype='object')"
      ]
     },
     "execution_count": 21,
     "metadata": {},
     "output_type": "execute_result"
    }
   ],
   "source": [
    "boat.columns"
   ]
  },
  {
   "cell_type": "code",
   "execution_count": 22,
   "id": "4b7e0557",
   "metadata": {},
   "outputs": [],
   "source": [
    "boat['YearCat'] = pd.qcut(boat['Year Built'], q=5)"
   ]
  },
  {
   "cell_type": "code",
   "execution_count": 23,
   "id": "a1d4cb35",
   "metadata": {},
   "outputs": [
    {
     "data": {
      "text/plain": [
       "YearCat\n",
       "(-0.001, 1992.0]    379144\n",
       "(2010.0, 2019.0]    333690\n",
       "(1992.0, 2004.0]    312749\n",
       "(2004.0, 2010.0]    262329\n",
       "(2019.0, 2021.0]    186990\n",
       "Name: views, dtype: int64"
      ]
     },
     "execution_count": 23,
     "metadata": {},
     "output_type": "execute_result"
    }
   ],
   "source": [
    "boat.groupby('YearCat')['views'].sum().sort_values(ascending=False)"
   ]
  },
  {
   "cell_type": "code",
   "execution_count": 24,
   "id": "295eee3e",
   "metadata": {},
   "outputs": [],
   "source": [
    "top_10 = boat.sort_values('views', ascending=False).head(10)"
   ]
  },
  {
   "cell_type": "code",
   "execution_count": 25,
   "id": "84103473",
   "metadata": {},
   "outputs": [
    {
     "data": {
      "text/html": [
       "<div>\n",
       "<style scoped>\n",
       "    .dataframe tbody tr th:only-of-type {\n",
       "        vertical-align: middle;\n",
       "    }\n",
       "\n",
       "    .dataframe tbody tr th {\n",
       "        vertical-align: top;\n",
       "    }\n",
       "\n",
       "    .dataframe thead th {\n",
       "        text-align: right;\n",
       "    }\n",
       "</style>\n",
       "<table border=\"1\" class=\"dataframe\">\n",
       "  <thead>\n",
       "    <tr style=\"text-align: right;\">\n",
       "      <th></th>\n",
       "      <th>Price</th>\n",
       "      <th>Boat Type</th>\n",
       "      <th>Manufacturer</th>\n",
       "      <th>Type</th>\n",
       "      <th>Year Built</th>\n",
       "      <th>Length</th>\n",
       "      <th>Width</th>\n",
       "      <th>Material</th>\n",
       "      <th>Location</th>\n",
       "      <th>views</th>\n",
       "      <th>valor</th>\n",
       "      <th>moeda</th>\n",
       "      <th>valor_USD</th>\n",
       "      <th>price_category</th>\n",
       "      <th>YearCat</th>\n",
       "    </tr>\n",
       "  </thead>\n",
       "  <tbody>\n",
       "    <tr>\n",
       "      <th>9580</th>\n",
       "      <td>CHF 14900</td>\n",
       "      <td>Motor Yacht</td>\n",
       "      <td>Bayliner power boats</td>\n",
       "      <td>Used boat,Unleaded</td>\n",
       "      <td>1992</td>\n",
       "      <td>7.70</td>\n",
       "      <td>2.46</td>\n",
       "      <td>Plastic</td>\n",
       "      <td>Switzerland</td>\n",
       "      <td>3263</td>\n",
       "      <td>14900</td>\n",
       "      <td>CHF</td>\n",
       "      <td>15049.00</td>\n",
       "      <td>Bronze</td>\n",
       "      <td>(-0.001, 1992.0]</td>\n",
       "    </tr>\n",
       "    <tr>\n",
       "      <th>8723</th>\n",
       "      <td>CHF 35000</td>\n",
       "      <td>Hardtop</td>\n",
       "      <td>Princess power boats</td>\n",
       "      <td>Used boat,Diesel</td>\n",
       "      <td>1979</td>\n",
       "      <td>11.12</td>\n",
       "      <td>3.88</td>\n",
       "      <td>GRP</td>\n",
       "      <td>Switzerland</td>\n",
       "      <td>2432</td>\n",
       "      <td>35000</td>\n",
       "      <td>CHF</td>\n",
       "      <td>35350.00</td>\n",
       "      <td>Silver</td>\n",
       "      <td>(-0.001, 1992.0]</td>\n",
       "    </tr>\n",
       "    <tr>\n",
       "      <th>6211</th>\n",
       "      <td>CHF 125900</td>\n",
       "      <td>Bowrider,Motor Yacht,Sport Boat</td>\n",
       "      <td>Windy power boats</td>\n",
       "      <td>Used boat,Diesel</td>\n",
       "      <td>2002</td>\n",
       "      <td>12.35</td>\n",
       "      <td>3.48</td>\n",
       "      <td>GRP</td>\n",
       "      <td>Switzerland</td>\n",
       "      <td>2261</td>\n",
       "      <td>125900</td>\n",
       "      <td>CHF</td>\n",
       "      <td>127159.00</td>\n",
       "      <td>Gold</td>\n",
       "      <td>(1992.0, 2004.0]</td>\n",
       "    </tr>\n",
       "    <tr>\n",
       "      <th>3700</th>\n",
       "      <td>EUR 949000</td>\n",
       "      <td>Hardtop</td>\n",
       "      <td>Pershing power boats</td>\n",
       "      <td>Used boat,Diesel</td>\n",
       "      <td>2009</td>\n",
       "      <td>20.30</td>\n",
       "      <td>5.20</td>\n",
       "      <td>GRP</td>\n",
       "      <td>Neustadt</td>\n",
       "      <td>2154</td>\n",
       "      <td>949000</td>\n",
       "      <td>EUR</td>\n",
       "      <td>911040.00</td>\n",
       "      <td>Diamond</td>\n",
       "      <td>(2004.0, 2010.0]</td>\n",
       "    </tr>\n",
       "    <tr>\n",
       "      <th>308</th>\n",
       "      <td>CHF 19900</td>\n",
       "      <td>Sport Boat</td>\n",
       "      <td>Sea Ray power boats</td>\n",
       "      <td>Used boat,Unleaded</td>\n",
       "      <td>1993</td>\n",
       "      <td>6.14</td>\n",
       "      <td>2.34</td>\n",
       "      <td>Plastic</td>\n",
       "      <td>Switzerland</td>\n",
       "      <td>2026</td>\n",
       "      <td>19900</td>\n",
       "      <td>CHF</td>\n",
       "      <td>20099.00</td>\n",
       "      <td>Bronze</td>\n",
       "      <td>(1992.0, 2004.0]</td>\n",
       "    </tr>\n",
       "    <tr>\n",
       "      <th>894</th>\n",
       "      <td>CHF 48500</td>\n",
       "      <td>Cabin Boat</td>\n",
       "      <td>Viper power boats</td>\n",
       "      <td>Used boat,Unleaded</td>\n",
       "      <td>2014</td>\n",
       "      <td>6.65</td>\n",
       "      <td>2.30</td>\n",
       "      <td>GRP</td>\n",
       "      <td>Switzerland</td>\n",
       "      <td>1970</td>\n",
       "      <td>48500</td>\n",
       "      <td>CHF</td>\n",
       "      <td>48985.00</td>\n",
       "      <td>Silver</td>\n",
       "      <td>(2010.0, 2019.0]</td>\n",
       "    </tr>\n",
       "    <tr>\n",
       "      <th>9878</th>\n",
       "      <td>CHF 4999</td>\n",
       "      <td>Sport Boat,Wakeboard/Wakesurf,Water ski</td>\n",
       "      <td>Tullio Abbate power boats</td>\n",
       "      <td>Used boat,Unleaded</td>\n",
       "      <td>1980</td>\n",
       "      <td>6.00</td>\n",
       "      <td>2.10</td>\n",
       "      <td>GRP</td>\n",
       "      <td>Switzerland</td>\n",
       "      <td>1917</td>\n",
       "      <td>4999</td>\n",
       "      <td>CHF</td>\n",
       "      <td>5048.99</td>\n",
       "      <td>Bronze</td>\n",
       "      <td>(-0.001, 1992.0]</td>\n",
       "    </tr>\n",
       "    <tr>\n",
       "      <th>8684</th>\n",
       "      <td>CHF 36000</td>\n",
       "      <td>Sport Boat</td>\n",
       "      <td>Correct Craft power boats</td>\n",
       "      <td>Used boat,Unleaded</td>\n",
       "      <td>2005</td>\n",
       "      <td>6.40</td>\n",
       "      <td>2.31</td>\n",
       "      <td>GRP</td>\n",
       "      <td>Switzerland</td>\n",
       "      <td>1834</td>\n",
       "      <td>36000</td>\n",
       "      <td>CHF</td>\n",
       "      <td>36360.00</td>\n",
       "      <td>Silver</td>\n",
       "      <td>(2004.0, 2010.0]</td>\n",
       "    </tr>\n",
       "    <tr>\n",
       "      <th>9843</th>\n",
       "      <td>CHF 6500</td>\n",
       "      <td>Sport Boat</td>\n",
       "      <td>Baha power boats</td>\n",
       "      <td>Used boat,Unleaded</td>\n",
       "      <td>1995</td>\n",
       "      <td>6.80</td>\n",
       "      <td>2.38</td>\n",
       "      <td>GRP</td>\n",
       "      <td>Thun</td>\n",
       "      <td>1831</td>\n",
       "      <td>6500</td>\n",
       "      <td>CHF</td>\n",
       "      <td>6565.00</td>\n",
       "      <td>Bronze</td>\n",
       "      <td>(1992.0, 2004.0]</td>\n",
       "    </tr>\n",
       "    <tr>\n",
       "      <th>35</th>\n",
       "      <td>CHF 3800</td>\n",
       "      <td>Cabin Boat</td>\n",
       "      <td>Draco power boats</td>\n",
       "      <td>Used boat,Unleaded</td>\n",
       "      <td>1980</td>\n",
       "      <td>6.20</td>\n",
       "      <td>2.45</td>\n",
       "      <td>GRP</td>\n",
       "      <td>Switzerland</td>\n",
       "      <td>1804</td>\n",
       "      <td>3800</td>\n",
       "      <td>CHF</td>\n",
       "      <td>3838.00</td>\n",
       "      <td>Bronze</td>\n",
       "      <td>(-0.001, 1992.0]</td>\n",
       "    </tr>\n",
       "  </tbody>\n",
       "</table>\n",
       "</div>"
      ],
      "text/plain": [
       "           Price                                Boat Type  \\\n",
       "9580   CHF 14900                              Motor Yacht   \n",
       "8723   CHF 35000                                  Hardtop   \n",
       "6211  CHF 125900          Bowrider,Motor Yacht,Sport Boat   \n",
       "3700  EUR 949000                                  Hardtop   \n",
       "308    CHF 19900                               Sport Boat   \n",
       "894    CHF 48500                               Cabin Boat   \n",
       "9878    CHF 4999  Sport Boat,Wakeboard/Wakesurf,Water ski   \n",
       "8684   CHF 36000                               Sport Boat   \n",
       "9843    CHF 6500                               Sport Boat   \n",
       "35      CHF 3800                               Cabin Boat   \n",
       "\n",
       "                   Manufacturer                Type  Year Built  Length  \\\n",
       "9580       Bayliner power boats  Used boat,Unleaded        1992    7.70   \n",
       "8723       Princess power boats    Used boat,Diesel        1979   11.12   \n",
       "6211          Windy power boats    Used boat,Diesel        2002   12.35   \n",
       "3700       Pershing power boats    Used boat,Diesel        2009   20.30   \n",
       "308         Sea Ray power boats  Used boat,Unleaded        1993    6.14   \n",
       "894           Viper power boats  Used boat,Unleaded        2014    6.65   \n",
       "9878  Tullio Abbate power boats  Used boat,Unleaded        1980    6.00   \n",
       "8684  Correct Craft power boats  Used boat,Unleaded        2005    6.40   \n",
       "9843           Baha power boats  Used boat,Unleaded        1995    6.80   \n",
       "35            Draco power boats  Used boat,Unleaded        1980    6.20   \n",
       "\n",
       "      Width Material     Location  views   valor moeda  valor_USD  \\\n",
       "9580   2.46  Plastic  Switzerland   3263   14900   CHF   15049.00   \n",
       "8723   3.88      GRP  Switzerland   2432   35000   CHF   35350.00   \n",
       "6211   3.48      GRP  Switzerland   2261  125900   CHF  127159.00   \n",
       "3700   5.20      GRP     Neustadt   2154  949000   EUR  911040.00   \n",
       "308    2.34  Plastic  Switzerland   2026   19900   CHF   20099.00   \n",
       "894    2.30      GRP  Switzerland   1970   48500   CHF   48985.00   \n",
       "9878   2.10      GRP  Switzerland   1917    4999   CHF    5048.99   \n",
       "8684   2.31      GRP  Switzerland   1834   36000   CHF   36360.00   \n",
       "9843   2.38      GRP         Thun   1831    6500   CHF    6565.00   \n",
       "35     2.45      GRP  Switzerland   1804    3800   CHF    3838.00   \n",
       "\n",
       "     price_category           YearCat  \n",
       "9580         Bronze  (-0.001, 1992.0]  \n",
       "8723         Silver  (-0.001, 1992.0]  \n",
       "6211           Gold  (1992.0, 2004.0]  \n",
       "3700        Diamond  (2004.0, 2010.0]  \n",
       "308          Bronze  (1992.0, 2004.0]  \n",
       "894          Silver  (2010.0, 2019.0]  \n",
       "9878         Bronze  (-0.001, 1992.0]  \n",
       "8684         Silver  (2004.0, 2010.0]  \n",
       "9843         Bronze  (1992.0, 2004.0]  \n",
       "35           Bronze  (-0.001, 1992.0]  "
      ]
     },
     "execution_count": 25,
     "metadata": {},
     "output_type": "execute_result"
    }
   ],
   "source": [
    "top_10"
   ]
  },
  {
   "cell_type": "code",
   "execution_count": 26,
   "id": "f0a79389",
   "metadata": {},
   "outputs": [],
   "source": [
    "bin_labels_10 = ['30 Years (Up to 1992)','Up to 30 Years (From 1992 onwards)','Up to 18 Years (From 2004 onwards)','Up to 12 Years (From 2010 onwards)','Up to 3 Years (From 2019 onwards)']\n",
    "boat['Anos'] = pd.qcut(boat['Year Built'], q=[0, .2, .4, .6, .8, 1], labels = bin_labels_10)"
   ]
  },
  {
   "cell_type": "code",
   "execution_count": 27,
   "id": "ba848f1c",
   "metadata": {},
   "outputs": [],
   "source": [
    "bin_labels_ = [\"From 6.2 to 7 mts\", \"From 3. to 6.24 mts\", \"From 8.3 to 11 mts\",\"From 11 to 54 mts\", \"From 7 to 8.4 mts\" ]\n",
    "boat['Tam_Boat'] = pd.qcut(boat['Length'], q=[0, .2, .4, .6, .8, 1], labels = bin_labels_)"
   ]
  },
  {
   "cell_type": "code",
   "execution_count": 28,
   "id": "5d5d73c0",
   "metadata": {},
   "outputs": [],
   "source": [
    "boat.to_csv('boat.csv')"
   ]
  },
  {
   "cell_type": "code",
   "execution_count": 29,
   "id": "3db61ebc",
   "metadata": {},
   "outputs": [],
   "source": [
    "top_100 = boat.sort_values('views', ascending=False).head(100)"
   ]
  },
  {
   "cell_type": "code",
   "execution_count": 30,
   "id": "3c1540ba",
   "metadata": {},
   "outputs": [
    {
     "data": {
      "text/html": [
       "<div>\n",
       "<style scoped>\n",
       "    .dataframe tbody tr th:only-of-type {\n",
       "        vertical-align: middle;\n",
       "    }\n",
       "\n",
       "    .dataframe tbody tr th {\n",
       "        vertical-align: top;\n",
       "    }\n",
       "\n",
       "    .dataframe thead th {\n",
       "        text-align: right;\n",
       "    }\n",
       "</style>\n",
       "<table border=\"1\" class=\"dataframe\">\n",
       "  <thead>\n",
       "    <tr style=\"text-align: right;\">\n",
       "      <th></th>\n",
       "      <th>Price</th>\n",
       "      <th>Boat Type</th>\n",
       "      <th>Manufacturer</th>\n",
       "      <th>Type</th>\n",
       "      <th>Year Built</th>\n",
       "      <th>Length</th>\n",
       "      <th>Width</th>\n",
       "      <th>Material</th>\n",
       "      <th>Location</th>\n",
       "      <th>views</th>\n",
       "      <th>valor</th>\n",
       "      <th>moeda</th>\n",
       "      <th>valor_USD</th>\n",
       "      <th>price_category</th>\n",
       "      <th>YearCat</th>\n",
       "      <th>Anos</th>\n",
       "      <th>Tam_Boat</th>\n",
       "    </tr>\n",
       "  </thead>\n",
       "  <tbody>\n",
       "    <tr>\n",
       "      <th>9580</th>\n",
       "      <td>CHF 14900</td>\n",
       "      <td>Motor Yacht</td>\n",
       "      <td>Bayliner power boats</td>\n",
       "      <td>Used boat,Unleaded</td>\n",
       "      <td>1992</td>\n",
       "      <td>7.70</td>\n",
       "      <td>2.46</td>\n",
       "      <td>Plastic</td>\n",
       "      <td>Switzerland</td>\n",
       "      <td>3263</td>\n",
       "      <td>14900</td>\n",
       "      <td>CHF</td>\n",
       "      <td>15049.0</td>\n",
       "      <td>Bronze</td>\n",
       "      <td>(-0.001, 1992.0]</td>\n",
       "      <td>30 Years (Up to 1992)</td>\n",
       "      <td>From 3. to 6.24 mts</td>\n",
       "    </tr>\n",
       "    <tr>\n",
       "      <th>8723</th>\n",
       "      <td>CHF 35000</td>\n",
       "      <td>Hardtop</td>\n",
       "      <td>Princess power boats</td>\n",
       "      <td>Used boat,Diesel</td>\n",
       "      <td>1979</td>\n",
       "      <td>11.12</td>\n",
       "      <td>3.88</td>\n",
       "      <td>GRP</td>\n",
       "      <td>Switzerland</td>\n",
       "      <td>2432</td>\n",
       "      <td>35000</td>\n",
       "      <td>CHF</td>\n",
       "      <td>35350.0</td>\n",
       "      <td>Silver</td>\n",
       "      <td>(-0.001, 1992.0]</td>\n",
       "      <td>30 Years (Up to 1992)</td>\n",
       "      <td>From 8.3 to 11 mts</td>\n",
       "    </tr>\n",
       "    <tr>\n",
       "      <th>6211</th>\n",
       "      <td>CHF 125900</td>\n",
       "      <td>Bowrider,Motor Yacht,Sport Boat</td>\n",
       "      <td>Windy power boats</td>\n",
       "      <td>Used boat,Diesel</td>\n",
       "      <td>2002</td>\n",
       "      <td>12.35</td>\n",
       "      <td>3.48</td>\n",
       "      <td>GRP</td>\n",
       "      <td>Switzerland</td>\n",
       "      <td>2261</td>\n",
       "      <td>125900</td>\n",
       "      <td>CHF</td>\n",
       "      <td>127159.0</td>\n",
       "      <td>Gold</td>\n",
       "      <td>(1992.0, 2004.0]</td>\n",
       "      <td>Up to 30 Years (From 1992 onwards)</td>\n",
       "      <td>From 11 to 54 mts</td>\n",
       "    </tr>\n",
       "    <tr>\n",
       "      <th>3700</th>\n",
       "      <td>EUR 949000</td>\n",
       "      <td>Hardtop</td>\n",
       "      <td>Pershing power boats</td>\n",
       "      <td>Used boat,Diesel</td>\n",
       "      <td>2009</td>\n",
       "      <td>20.30</td>\n",
       "      <td>5.20</td>\n",
       "      <td>GRP</td>\n",
       "      <td>Neustadt</td>\n",
       "      <td>2154</td>\n",
       "      <td>949000</td>\n",
       "      <td>EUR</td>\n",
       "      <td>911040.0</td>\n",
       "      <td>Diamond</td>\n",
       "      <td>(2004.0, 2010.0]</td>\n",
       "      <td>Up to 18 Years (From 2004 onwards)</td>\n",
       "      <td>From 7 to 8.4 mts</td>\n",
       "    </tr>\n",
       "    <tr>\n",
       "      <th>308</th>\n",
       "      <td>CHF 19900</td>\n",
       "      <td>Sport Boat</td>\n",
       "      <td>Sea Ray power boats</td>\n",
       "      <td>Used boat,Unleaded</td>\n",
       "      <td>1993</td>\n",
       "      <td>6.14</td>\n",
       "      <td>2.34</td>\n",
       "      <td>Plastic</td>\n",
       "      <td>Switzerland</td>\n",
       "      <td>2026</td>\n",
       "      <td>19900</td>\n",
       "      <td>CHF</td>\n",
       "      <td>20099.0</td>\n",
       "      <td>Bronze</td>\n",
       "      <td>(1992.0, 2004.0]</td>\n",
       "      <td>Up to 30 Years (From 1992 onwards)</td>\n",
       "      <td>From 6.2 to 7 mts</td>\n",
       "    </tr>\n",
       "  </tbody>\n",
       "</table>\n",
       "</div>"
      ],
      "text/plain": [
       "           Price                        Boat Type          Manufacturer  \\\n",
       "9580   CHF 14900                      Motor Yacht  Bayliner power boats   \n",
       "8723   CHF 35000                          Hardtop  Princess power boats   \n",
       "6211  CHF 125900  Bowrider,Motor Yacht,Sport Boat     Windy power boats   \n",
       "3700  EUR 949000                          Hardtop  Pershing power boats   \n",
       "308    CHF 19900                       Sport Boat   Sea Ray power boats   \n",
       "\n",
       "                    Type  Year Built  Length  Width Material     Location  \\\n",
       "9580  Used boat,Unleaded        1992    7.70   2.46  Plastic  Switzerland   \n",
       "8723    Used boat,Diesel        1979   11.12   3.88      GRP  Switzerland   \n",
       "6211    Used boat,Diesel        2002   12.35   3.48      GRP  Switzerland   \n",
       "3700    Used boat,Diesel        2009   20.30   5.20      GRP     Neustadt   \n",
       "308   Used boat,Unleaded        1993    6.14   2.34  Plastic  Switzerland   \n",
       "\n",
       "      views   valor moeda  valor_USD price_category           YearCat  \\\n",
       "9580   3263   14900   CHF    15049.0         Bronze  (-0.001, 1992.0]   \n",
       "8723   2432   35000   CHF    35350.0         Silver  (-0.001, 1992.0]   \n",
       "6211   2261  125900   CHF   127159.0           Gold  (1992.0, 2004.0]   \n",
       "3700   2154  949000   EUR   911040.0        Diamond  (2004.0, 2010.0]   \n",
       "308    2026   19900   CHF    20099.0         Bronze  (1992.0, 2004.0]   \n",
       "\n",
       "                                    Anos             Tam_Boat  \n",
       "9580               30 Years (Up to 1992)  From 3. to 6.24 mts  \n",
       "8723               30 Years (Up to 1992)   From 8.3 to 11 mts  \n",
       "6211  Up to 30 Years (From 1992 onwards)    From 11 to 54 mts  \n",
       "3700  Up to 18 Years (From 2004 onwards)    From 7 to 8.4 mts  \n",
       "308   Up to 30 Years (From 1992 onwards)    From 6.2 to 7 mts  "
      ]
     },
     "execution_count": 30,
     "metadata": {},
     "output_type": "execute_result"
    }
   ],
   "source": [
    "top_100.head()"
   ]
  },
  {
   "cell_type": "code",
   "execution_count": 31,
   "id": "d54bde4c",
   "metadata": {},
   "outputs": [],
   "source": [
    "top_100.to_csv('top_100.csv')"
   ]
  },
  {
   "cell_type": "code",
   "execution_count": 32,
   "id": "71743dad",
   "metadata": {},
   "outputs": [
    {
     "data": {
      "image/png": "[encoded data removed]",
      "text/plain": [
       "<Figure size 432x288 with 1 Axes>"
      ]
     },
     "metadata": {
      "needs_background": "light"
     },
     "output_type": "display_data"
    }
   ],
   "source": [
    "sns.scatterplot(x='valor_USD', y='Length', data= boat)\n",
    "plt.show()"
   ]
  },
  {
   "cell_type": "code",
   "execution_count": 33,
   "id": "5121c8bc",
   "metadata": {},
   "outputs": [
    {
     "data": {
      "image/png": "[encoded data removed]",
      "text/plain": [
       "<Figure size 432x288 with 1 Axes>"
      ]
     },
     "metadata": {
      "needs_background": "light"
     },
     "output_type": "display_data"
    }
   ],
   "source": [
    "sns.scatterplot(x='valor_USD',y='Length', data=top_100)\n",
    "plt.show()"
   ]
  },
  {
   "cell_type": "code",
   "execution_count": 34,
   "id": "8ad807da",
   "metadata": {},
   "outputs": [
    {
     "data": {
      "text/plain": [
       "0.5626581644813836"
      ]
     },
     "execution_count": 34,
     "metadata": {},
     "output_type": "execute_result"
    }
   ],
   "source": [
    "boat['valor_USD'].corr(boat['Length'])"
   ]
  },
  {
   "cell_type": "code",
   "execution_count": 35,
   "id": "224bdfbd",
   "metadata": {},
   "outputs": [
    {
     "data": {
      "text/plain": [
       "-0.008113144949470205"
      ]
     },
     "execution_count": 35,
     "metadata": {},
     "output_type": "execute_result"
    }
   ],
   "source": [
    "boat['valor_USD'].corr(boat['views'])"
   ]
  },
  {
   "cell_type": "code",
   "execution_count": 36,
   "id": "e7fdc0fb",
   "metadata": {},
   "outputs": [
    {
     "data": {
      "image/png": "[encoded data removed]",
      "text/plain": [
       "<Figure size 432x288 with 1 Axes>"
      ]
     },
     "metadata": {
      "needs_background": "light"
     },
     "output_type": "display_data"
    }
   ],
   "source": [
    "sns.scatterplot(x=boat['valor_USD'], y=boat['views'], data=boat)\n",
    "plt.show()"
   ]
  },
  {
   "cell_type": "code",
   "execution_count": 37,
   "id": "f490e847",
   "metadata": {},
   "outputs": [
    {
     "name": "stdout",
     "output_type": "stream",
     "text": [
      "3168.0 29760000.0\n"
     ]
    }
   ],
   "source": [
    "# PRECO - VALOR MINIMO E MAXIMO \n",
    "print(boat['valor_USD'].min(), boat['valor_USD'].max())"
   ]
  },
  {
   "cell_type": "code",
   "execution_count": 38,
   "id": "5df686fe",
   "metadata": {},
   "outputs": [
    {
     "name": "stdout",
     "output_type": "stream",
     "text": [
      "13 3263\n"
     ]
    }
   ],
   "source": [
    "# VIEWS - VALOR MINIMO E MAXIMO \n",
    "print(boat['views'].min(), boat['views'].max())"
   ]
  },
  {
   "cell_type": "code",
   "execution_count": 39,
   "id": "529809ab",
   "metadata": {},
   "outputs": [
    {
     "data": {
      "text/plain": [
       "1994.9"
      ]
     },
     "execution_count": 39,
     "metadata": {},
     "output_type": "execute_result"
    }
   ],
   "source": [
    "# MEDIA - ANO DE FABRICACAO - TOP 10\n",
    "top_10['Year Built'].mean()"
   ]
  },
  {
   "cell_type": "code",
   "execution_count": 40,
   "id": "d85d99bc",
   "metadata": {},
   "outputs": [
    {
     "data": {
      "text/plain": [
       "count    9.888000e+03\n",
       "mean     2.900687e+05\n",
       "std      9.283458e+05\n",
       "min      3.168000e+03\n",
       "25%      4.128000e+04\n",
       "50%      9.014400e+04\n",
       "75%      2.387760e+05\n",
       "max      2.976000e+07\n",
       "Name: valor_USD, dtype: float64"
      ]
     },
     "execution_count": 40,
     "metadata": {},
     "output_type": "execute_result"
    }
   ],
   "source": [
    "boat['valor_USD'].describe()"
   ]
  },
  {
   "cell_type": "code",
   "execution_count": 41,
   "id": "af39bb1a",
   "metadata": {},
   "outputs": [
    {
     "data": {
      "image/png": "[encoded data removed]",
      "text/plain": [
       "<Figure size 432x288 with 1 Axes>"
      ]
     },
     "metadata": {
      "needs_background": "light"
     },
     "output_type": "display_data"
    }
   ],
   "source": [
    "boat.groupby('Type')['views'].sum().sort_values(ascending=False).plot(kind='barh')\n",
    "plt.show()"
   ]
  },
  {
   "cell_type": "code",
   "execution_count": 42,
   "id": "8d91e930",
   "metadata": {},
   "outputs": [],
   "source": [
    "top_1000 = boat.sort_values('views', ascending=False).head(1000)"
   ]
  },
  {
   "cell_type": "code",
   "execution_count": 43,
   "id": "4c14ab3a",
   "metadata": {},
   "outputs": [
    {
     "data": {
      "image/png": "[encoded data removed]",
      "text/plain": [
       "<Figure size 432x288 with 1 Axes>"
      ]
     },
     "metadata": {
      "needs_background": "light"
     },
     "output_type": "display_data"
    }
   ],
   "source": [
    "top_1000.groupby('Type')['views'].sum().sort_values(ascending=False).plot(kind='barh')\n",
    "plt.show()"
   ]
  },
  {
   "cell_type": "code",
   "execution_count": 44,
   "id": "ea644a0c",
   "metadata": {},
   "outputs": [
    {
     "data": {
      "text/plain": [
       "Type\n",
       "Used boat,Unleaded              242379\n",
       "Used boat,Diesel                136428\n",
       "Used boat                        33100\n",
       "new boat from stock,Unleaded     23437\n",
       "new boat from stock              13835\n",
       "new boat from stock,Diesel        7397\n",
       "Display Model,Unleaded            3949\n",
       "new boat on order                 3826\n",
       "new boat on order,Diesel          3713\n",
       "new boat on order,Unleaded        3193\n",
       "Display Model,Diesel              1700\n",
       "Display Model                     1579\n",
       "Used boat,Electric                1455\n",
       "Unleaded                           996\n",
       "new boat from stock,Electric       731\n",
       "Used boat,Gas                      421\n",
       "Diesel                             421\n",
       "new boat from stock,Hybrid         384\n",
       "Name: views, dtype: int64"
      ]
     },
     "execution_count": 44,
     "metadata": {},
     "output_type": "execute_result"
    }
   ],
   "source": [
    "top_1000.groupby('Type')['views'].sum().sort_values(ascending=False)"
   ]
  },
  {
   "cell_type": "code",
   "execution_count": 45,
   "id": "910b63bb",
   "metadata": {},
   "outputs": [
    {
     "data": {
      "image/png": "[encoded data removed]",
      "text/plain": [
       "<Figure size 432x288 with 1 Axes>"
      ]
     },
     "metadata": {
      "needs_background": "light"
     },
     "output_type": "display_data"
    }
   ],
   "source": [
    "(top_100['Boat Type'].value_counts(normalize=True)*100).plot(kind='barh')\n",
    "plt.show()"
   ]
  },
  {
   "cell_type": "code",
   "execution_count": 46,
   "id": "8ee6e35c",
   "metadata": {},
   "outputs": [],
   "source": [
    "top_1000.to_csv('top1000.csv')"
   ]
  },
  {
   "cell_type": "code",
   "execution_count": 47,
   "id": "f2035363",
   "metadata": {},
   "outputs": [],
   "source": [
    "boat['price_category2'] = pd.qcut(boat['valor_USD'], q=5)"
   ]
  },
  {
   "cell_type": "code",
   "execution_count": 48,
   "id": "8062eccb",
   "metadata": {},
   "outputs": [
    {
     "data": {
      "text/plain": [
       "price_category2\n",
       "(3167.999, 34495.092]     423616\n",
       "(34495.092, 66240.0]      312847\n",
       "(66240.0, 129600.0]       276816\n",
       "(129600.0, 287040.0]      237921\n",
       "(287040.0, 29760000.0]    223702\n",
       "Name: views, dtype: int64"
      ]
     },
     "execution_count": 48,
     "metadata": {},
     "output_type": "execute_result"
    }
   ],
   "source": [
    "boat.groupby('price_category2')['views'].sum()\n"
   ]
  },
  {
   "cell_type": "code",
   "execution_count": 49,
   "id": "e9886615",
   "metadata": {},
   "outputs": [
    {
     "name": "stdout",
     "output_type": "stream",
     "text": [
      "3168.0 29760000.0\n"
     ]
    }
   ],
   "source": [
    "print(boat['valor_USD'].min(), boat['valor_USD'].max())"
   ]
  }
 ],
 "metadata": {
  "kernelspec": {
   "display_name": "Python 3 (ipykernel)",
   "language": "python",
   "name": "python3"
  },
  "language_info": {
   "codemirror_mode": {
    "name": "ipython",
    "version": 3
   },
   "file_extension": ".py",
   "mimetype": "text/x-python",
   "name": "python",
   "nbconvert_exporter": "python",
   "pygments_lexer": "ipython3",
   "version": "3.9.7"
  }
 },
 "nbformat": 4,
 "nbformat_minor": 5
}
